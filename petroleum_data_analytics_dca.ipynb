{
 "cells": [
  {
   "cell_type": "markdown",
   "id": "08aef98d",
   "metadata": {},
   "source": [
    "IFP Project Based PDA ML Training\n",
    "\n",
    "Description:\n",
    "dataset: norne production sample\n",
    "\n",
    "Notebook:"
   ]
  },
  {
   "cell_type": "code",
   "execution_count": 2,
   "id": "8abbda68",
   "metadata": {},
   "outputs": [],
   "source": [
    "#Importing modules\n",
    "\n",
    "import numpy as np #mathematical\n",
    "import pandas as pd #dataframes\n",
    "import matplotlib.pyplot as plt #vizualizations\n",
    "import seaborn as sns ##statistics\n"
   ]
  },
  {
   "cell_type": "code",
   "execution_count": 3,
   "id": "d54a3328",
   "metadata": {},
   "outputs": [],
   "source": [
    "from scipy import *"
   ]
  },
  {
   "cell_type": "code",
   "execution_count": 4,
   "id": "c7ec3529",
   "metadata": {},
   "outputs": [],
   "source": [
    "import math"
   ]
  },
  {
   "cell_type": "markdown",
   "id": "d3a4fea1",
   "metadata": {},
   "source": [
    "1 Decline Curve Analysis & Linear Regression \n",
    "description\n",
    "Busca transformar os dados (varios pontos dispersos) em uma curva constante (grafico de fração declinio hiperbolica )\n",
    "transformando em v=v0.e^(-b)\n",
    "O scipy busca encontrar o v0 e o b"
   ]
  },
  {
   "cell_type": "code",
   "execution_count": 5,
   "id": "80e49fec",
   "metadata": {},
   "outputs": [],
   "source": [
    "from scipy.optimize import curve_fit"
   ]
  },
  {
   "cell_type": "code",
   "execution_count": 12,
   "id": "6627abc5",
   "metadata": {},
   "outputs": [],
   "source": [
    "#Testing\n",
    "#creating a list with 100 values with values betwen 0 and 100 \n",
    "x = np.random.randint(0,100,100)\n",
    "\n",
    "#creating a equation with a random noise\n",
    "y = 2*x + 3 + np.random.randn(100)*5\n",
    "\n",
    "#plt.scatter(x,y) #for dispertion\n",
    "#plt.plot(x,y) #for lines"
   ]
  },
  {
   "cell_type": "code",
   "execution_count": 27,
   "id": "675241c8",
   "metadata": {},
   "outputs": [],
   "source": [
    "#Setting a linear model function to use in curve fit\n",
    "def linear_model(x,m,c):\n",
    "    y = m*x + c\n",
    "    return y\n",
    "\n",
    "#Setting a squarer model function to use in curve fit\n",
    "def squarer_model(num1,num2):\n",
    "    return np.square(num1),np.square(num2)"
   ]
  },
  {
   "cell_type": "code",
   "execution_count": 22,
   "id": "ab14c008",
   "metadata": {},
   "outputs": [],
   "source": [
    "#Define the parameters to find a curve that fit with data dispertions\n",
    "params = curve_fit(linear_model,x,y)\n",
    "m,c = params[0] #Only parameters[0] is useful in this function (i dont know what is the others parameters meaning)\n",
    "\n",
    "#Setting curve with result's parameters of curve_fit function\n",
    "curve = linear_model(x,m,c)\n"
   ]
  },
  {
   "cell_type": "code",
   "execution_count": 26,
   "id": "f83f74e4",
   "metadata": {},
   "outputs": [
    {
     "data": {
      "text/plain": [
       "<matplotlib.legend.Legend at 0x25ecaf6d2b0>"
      ]
     },
     "execution_count": 26,
     "metadata": {},
     "output_type": "execute_result"
    },
    {
     "data": {
      "image/png": "[encoded data removed]",
      "text/plain": [
       "<Figure size 432x288 with 1 Axes>"
      ]
     },
     "metadata": {
      "needs_background": "light"
     },
     "output_type": "display_data"
    }
   ],
   "source": [
    "#Plotting graphs actual data and fit\n",
    "\n",
    "plt.scatter(x,y,label='Actual Data')\n",
    "plt.plot(x,curve, color='red',label='Prediction')\n",
    "\n",
    "plt.legend()"
   ]
  },
  {
   "cell_type": "markdown",
   "id": "f02fcfcf",
   "metadata": {},
   "source": [
    "Using a real dataset RATE OF OIL/GAS (SCF per day) PRODUCTION\n",
    "\n",
    "A standard cubic foot (scf) is a unit used both in the natural gas industry to represent an amount of natural gas and in other industries where other gases are used. It is the unit commonly used when following the customary system, a collection of standards set by the National Institute of Standards and Technology. Another unit used for the same purpose is the standard cubic metre (Sm3), customary when using SI units.[Font: Wikipedia]\n",
    "\n"
   ]
  },
  {
   "cell_type": "code",
   "execution_count": 51,
   "id": "4ef0ac66",
   "metadata": {
    "scrolled": true
   },
   "outputs": [
    {
     "data": {
      "text/html": [
       "<div>\n",
       "<style scoped>\n",
       "    .dataframe tbody tr th:only-of-type {\n",
       "        vertical-align: middle;\n",
       "    }\n",
       "\n",
       "    .dataframe tbody tr th {\n",
       "        vertical-align: top;\n",
       "    }\n",
       "\n",
       "    .dataframe thead th {\n",
       "        text-align: right;\n",
       "    }\n",
       "</style>\n",
       "<table border=\"1\" class=\"dataframe\">\n",
       "  <thead>\n",
       "    <tr style=\"text-align: right;\">\n",
       "      <th></th>\n",
       "      <th>Rate (SCF/d)</th>\n",
       "    </tr>\n",
       "    <tr>\n",
       "      <th>Date</th>\n",
       "      <th></th>\n",
       "    </tr>\n",
       "  </thead>\n",
       "  <tbody>\n",
       "    <tr>\n",
       "      <th>2004-04-01</th>\n",
       "      <td>2706039.0</td>\n",
       "    </tr>\n",
       "    <tr>\n",
       "      <th>2004-05-01</th>\n",
       "      <td>2492086.2</td>\n",
       "    </tr>\n",
       "    <tr>\n",
       "      <th>2004-06-02</th>\n",
       "      <td>1816846.1</td>\n",
       "    </tr>\n",
       "    <tr>\n",
       "      <th>2004-07-02</th>\n",
       "      <td>1920207.4</td>\n",
       "    </tr>\n",
       "    <tr>\n",
       "      <th>2004-07-04</th>\n",
       "      <td>1683521.4</td>\n",
       "    </tr>\n",
       "  </tbody>\n",
       "</table>\n",
       "</div>"
      ],
      "text/plain": [
       "            Rate (SCF/d)\n",
       "Date                    \n",
       "2004-04-01     2706039.0\n",
       "2004-05-01     2492086.2\n",
       "2004-06-02     1816846.1\n",
       "2004-07-02     1920207.4\n",
       "2004-07-04     1683521.4"
      ]
     },
     "execution_count": 51,
     "metadata": {},
     "output_type": "execute_result"
    }
   ],
   "source": [
    "#Loading the data set\n",
    "dca_df = pd.read_csv(\"norne_production_rate_sample.csv\",index_col=0,parse_dates=True)\n",
    "dca_df.head()\n"
   ]
  },
  {
   "cell_type": "code",
   "execution_count": 57,
   "id": "b5ad9633",
   "metadata": {
    "scrolled": true
   },
   "outputs": [
    {
     "data": {
      "text/plain": [
       "<matplotlib.collections.PathCollection at 0x25ed1193b20>"
      ]
     },
     "execution_count": 57,
     "metadata": {},
     "output_type": "execute_result"
    },
    {
     "data": {
      "image/png": "[encoded data removed]",
      "text/plain": [
       "<Figure size 864x288 with 1 Axes>"
      ]
     },
     "metadata": {
      "needs_background": "light"
     },
     "output_type": "display_data"
    }
   ],
   "source": [
    "#Visualizing\n",
    "dca_df.plot(figsize=(12,4))\n",
    "plt.grid() #line graph\n",
    "plt.scatter(y=dca_df['Rate (SCF/d)'],x=dca_df.index) #dispersion graph"
   ]
  },
  {
   "cell_type": "code",
   "execution_count": 58,
   "id": "46443279",
   "metadata": {},
   "outputs": [],
   "source": [
    "#Setting a function day maker\n",
    "\n",
    "def day_maker(df):\n",
    "    \n",
    "    #This fuctions get the difference between the days\n",
    "    \n",
    "    \n",
    "    days = []\n",
    "    \n",
    "    for d in range(len(df)):\n",
    "        \n",
    "        x = df.index[d] - df.index[0]\n",
    "        days.append(x.days)\n",
    "    \n",
    "    days = np.array(days)\n",
    "    \n",
    "    return days"
   ]
  },
  {
   "cell_type": "code",
   "execution_count": 63,
   "id": "f89c4388",
   "metadata": {},
   "outputs": [
    {
     "data": {
      "text/html": [
       "<div>\n",
       "<style scoped>\n",
       "    .dataframe tbody tr th:only-of-type {\n",
       "        vertical-align: middle;\n",
       "    }\n",
       "\n",
       "    .dataframe tbody tr th {\n",
       "        vertical-align: top;\n",
       "    }\n",
       "\n",
       "    .dataframe thead th {\n",
       "        text-align: right;\n",
       "    }\n",
       "</style>\n",
       "<table border=\"1\" class=\"dataframe\">\n",
       "  <thead>\n",
       "    <tr style=\"text-align: right;\">\n",
       "      <th></th>\n",
       "      <th>Rate (SCF/d)</th>\n",
       "      <th>days</th>\n",
       "    </tr>\n",
       "    <tr>\n",
       "      <th>Date</th>\n",
       "      <th></th>\n",
       "      <th></th>\n",
       "    </tr>\n",
       "  </thead>\n",
       "  <tbody>\n",
       "    <tr>\n",
       "      <th>2004-04-01</th>\n",
       "      <td>2706039.0</td>\n",
       "      <td>0</td>\n",
       "    </tr>\n",
       "    <tr>\n",
       "      <th>2004-05-01</th>\n",
       "      <td>2492086.2</td>\n",
       "      <td>30</td>\n",
       "    </tr>\n",
       "    <tr>\n",
       "      <th>2004-06-02</th>\n",
       "      <td>1816846.1</td>\n",
       "      <td>62</td>\n",
       "    </tr>\n",
       "    <tr>\n",
       "      <th>2004-07-02</th>\n",
       "      <td>1920207.4</td>\n",
       "      <td>92</td>\n",
       "    </tr>\n",
       "    <tr>\n",
       "      <th>2004-07-04</th>\n",
       "      <td>1683521.4</td>\n",
       "      <td>94</td>\n",
       "    </tr>\n",
       "  </tbody>\n",
       "</table>\n",
       "</div>"
      ],
      "text/plain": [
       "            Rate (SCF/d)  days\n",
       "Date                          \n",
       "2004-04-01     2706039.0     0\n",
       "2004-05-01     2492086.2    30\n",
       "2004-06-02     1816846.1    62\n",
       "2004-07-02     1920207.4    92\n",
       "2004-07-04     1683521.4    94"
      ]
     },
     "execution_count": 63,
     "metadata": {},
     "output_type": "execute_result"
    }
   ],
   "source": [
    "dca_df['days'] = day_maker(dca_df)\n",
    "dca_df.head()"
   ]
  },
  {
   "cell_type": "code",
   "execution_count": 74,
   "id": "eb253108",
   "metadata": {},
   "outputs": [
    {
     "data": {
      "text/plain": [
       "<matplotlib.collections.PathCollection at 0x25ed3939bb0>"
      ]
     },
     "execution_count": 74,
     "metadata": {},
     "output_type": "execute_result"
    },
    {
     "data": {
      "image/png": "[encoded data removed]",
      "text/plain": [
       "<Figure size 864x288 with 1 Axes>"
      ]
     },
     "metadata": {
      "needs_background": "light"
     },
     "output_type": "display_data"
    }
   ],
   "source": [
    "#Visualizing now production x days\n",
    "plt.figure(figsize=(12,4))\n",
    "plt.scatter(y=dca_df['Rate (SCF/d)'],x=dca_df['days']) #dispersion graph"
   ]
  },
  {
   "cell_type": "code",
   "execution_count": 88,
   "id": "c0435786",
   "metadata": {
    "scrolled": true
   },
   "outputs": [],
   "source": [
    "#The graph above seems like a hyperbolical function, so we need to fit a curve that combine with the graph 'scf x day'\n",
    "#Otherwise, we need to normalize the graph too\n",
    "\n",
    "#Video part: 47:00\n",
    "\n",
    "#Setting up a hyperbolical model function\n",
    "def q_hyp(t,qi,b,d):\n",
    "    qfit = qi/(np.abs((1+b*d*t))**(1/b))\n",
    "    return qfit\n",
    "\n",
    "def hyp_fitter(q,t):\n",
    "    \n",
    "    #Normalizing: get all data columns and divide by their maximum values\n",
    "    #Then we will get a new columns with new values q_n(rate) and t_n(date)\n",
    "    q_n = q/max(q)\n",
    "    t_n = t/max(t)\n",
    "             \n",
    "    #Curve fit (Optimization of parameters)\n",
    "    params = curve_fit(q_hyp,t_n,q_n)\n",
    "    [qi,b,d] = params[0]\n",
    "    \n",
    "    #These parameters are for normalize t and q\n",
    "    #So we need to readjust q and t and get their non normalized values again\n",
    "    d_f = d/max(t)\n",
    "    qi_f = qi*max(q)\n",
    "             \n",
    "    #Now we can use these parameters\n",
    "    q_hyp_fit = q_hyp(t,qi_f,b,d_f)\n",
    "    \n",
    "    return q_hyp_fit, params"
   ]
  },
  {
   "cell_type": "code",
   "execution_count": 90,
   "id": "d6cef32c",
   "metadata": {},
   "outputs": [],
   "source": [
    "#Setting up the parameters to get a hyperbolic graph fit\n",
    "q = dca_df['Rate (SCF/d)']\n",
    "t = dca_df['days']\n",
    "q_fit,params = hyp_fitter(q,t)"
   ]
  },
  {
   "cell_type": "code",
   "execution_count": 93,
   "id": "c2915eb0",
   "metadata": {},
   "outputs": [
    {
     "data": {
      "text/plain": [
       "<matplotlib.legend.Legend at 0x25ed743b100>"
      ]
     },
     "execution_count": 93,
     "metadata": {},
     "output_type": "execute_result"
    },
    {
     "data": {
      "image/png": "[encoded data removed]",
      "text/plain": [
       "<Figure size 864x288 with 1 Axes>"
      ]
     },
     "metadata": {
      "needs_background": "light"
     },
     "output_type": "display_data"
    }
   ],
   "source": [
    "#Visualization\n",
    "plt.figure(figsize=(12,4))\n",
    "plt.scatter(t,q,marker='v',color='green',label='Actual Production Data')\n",
    "plt.plot(t,q_fit,color='brown',lw=4,label='DCA Model Fit')\n",
    "\n",
    "plt.grid()\n",
    "plt.legend()"
   ]
  },
  {
   "cell_type": "markdown",
   "id": "3c41f790",
   "metadata": {},
   "source": [
    "Caso saiba o padrão da função (linear, hiperbolica, etc), o método DCA funciona muito bem para realizar previsoes de produção.\n",
    "No entanto, há casos que não é possível realizar essa previsão pois há variáveis que não se adequam a modelos de equações.\n",
    "Nesse caso é preciso utilizar modelos de machine learning para realizar as predições"
   ]
  }
 ],
 "metadata": {
  "kernelspec": {
   "display_name": "Python 3 (ipykernel)",
   "language": "python",
   "name": "python3"
  },
  "language_info": {
   "codemirror_mode": {
    "name": "ipython",
    "version": 3
   },
   "file_extension": ".py",
   "mimetype": "text/x-python",
   "name": "python",
   "nbconvert_exporter": "python",
   "pygments_lexer": "ipython3",
   "version": "3.9.12"
  }
 },
 "nbformat": 4,
 "nbformat_minor": 5
}
